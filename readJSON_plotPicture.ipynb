{
 "cells": [
  {
   "cell_type": "code",
   "execution_count": 1,
   "metadata": {
    "collapsed": true
   },
   "outputs": [],
   "source": [
    "import json\n",
    "import requests\n",
    "import matplotlib.pyplot as plt\n",
    "import numpy as np"
   ]
  },
  {
   "cell_type": "code",
   "execution_count": 9,
   "metadata": {},
   "outputs": [],
   "source": [
    "def plot(finename):  \n",
    "    with open(finename, 'r') as f: #開啟json格式檔\n",
    "        data = json.load(f)\n",
    "\n",
    "    temp = []\n",
    "    dictlist = []\n",
    "    for key, value in data.items(): #將json（type為dictionary）轉為list\n",
    "        temp = [key,value]\n",
    "        dictlist.append(temp)\n",
    "\n",
    "    listname = []\n",
    "    listvalue = []\n",
    "    for i in range(0,len(dictlist)):  #取出熱門語言名字\n",
    "        listname.append(dictlist[i][0])\n",
    "    for v in range(0,len(dictlist)):  #取出熱門語言數值\n",
    "        listvalue.append(dictlist[v][1]) \n",
    "\n",
    "    xticks = np.arange(len(listname))\n",
    "    plt.xticks(xticks, list(listname))  # 用作 X 軸刻度的值\n",
    "    plt.xticks(rotation=90)\n",
    "    plt.bar(xticks, listvalue, align='center', color='green')\n",
    "    plt.title(\"Hot Used Languaage\")  # 給標題\n",
    "    plt.show()"
   ]
  },
  {
   "cell_type": "code",
   "execution_count": 10,
   "metadata": {},
   "outputs": [
    {
     "data": {
      "image/png": "[encoded data removed]",
      "text/plain": [
       "<matplotlib.figure.Figure at 0x7f86665a1c88>"
      ]
     },
     "metadata": {},
     "output_type": "display_data"
    }
   ],
   "source": [
    "plot('../firstcode/data.json')"
   ]
  },
  {
   "cell_type": "code",
   "execution_count": null,
   "metadata": {
    "collapsed": true
   },
   "outputs": [],
   "source": []
  }
 ],
 "metadata": {
  "kernelspec": {
   "display_name": "Python 3",
   "language": "python",
   "name": "python3"
  },
  "language_info": {
   "codemirror_mode": {
    "name": "ipython",
    "version": 3
   },
   "file_extension": ".py",
   "mimetype": "text/x-python",
   "name": "python",
   "nbconvert_exporter": "python",
   "pygments_lexer": "ipython3",
   "version": "3.6.1"
  }
 },
 "nbformat": 4,
 "nbformat_minor": 2
}
