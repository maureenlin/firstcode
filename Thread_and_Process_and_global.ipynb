{
 "cells": [
  {
   "cell_type": "code",
   "execution_count": 1,
   "metadata": {
    "collapsed": true
   },
   "outputs": [],
   "source": [
    "#多線程(Thread)是將一個資料分好幾段，同時運行這些分段"
   ]
  },
  {
   "cell_type": "code",
   "execution_count": 2,
   "metadata": {},
   "outputs": [
    {
     "name": "stdout",
     "output_type": "stream",
     "text": [
      "T1 start\n",
      "\n",
      "T2 start\n",
      "\n",
      "T2 finish\n",
      "\n",
      "T1 finish\n",
      "all done\n",
      "\n",
      "\n"
     ]
    }
   ],
   "source": [
    "import threading\n",
    "import time\n",
    "def thread_job():\n",
    "    print('T1 start\\n')\n",
    "    for i in range(10):\n",
    "        time.sleep(0.1)\n",
    "    print('T1 finish\\n')\n",
    "\n",
    "def T2_job():\n",
    "    print('T2 start\\n')\n",
    "    print('T2 finish\\n')\n",
    "\n",
    "def main():\n",
    "    added_thread = threading.Thread(target=thread_job)\n",
    "    thread2 = threading.Thread(target=T2_job)\n",
    "    added_thread.start()\n",
    "    thread2.start()\n",
    "    thread2.join()\n",
    "    added_thread.join()\n",
    "\n",
    "    print('all done\\n')\n",
    "\n",
    "if __name__ == '__main__':\n",
    "    main()\n"
   ]
  },
  {
   "cell_type": "code",
   "execution_count": 3,
   "metadata": {},
   "outputs": [
    {
     "name": "stdout",
     "output_type": "stream",
     "text": [
      "T1 start\n",
      "\n",
      "all done\n",
      "\n",
      "T2 start\n",
      "\n",
      "T2 finish\n",
      "\n"
     ]
    }
   ],
   "source": [
    "import threading\n",
    "import time\n",
    "def thread_job():\n",
    "    print('T1 start\\n')\n",
    "    for i in range(10):\n",
    "        time.sleep(0.1)\n",
    "    print('T1 finish\\n')\n",
    "\n",
    "def T2_job():\n",
    "    print('T2 start\\n')\n",
    "    print('T2 finish\\n')\n",
    "\n",
    "def main():\n",
    "    added_thread = threading.Thread(target=thread_job)\n",
    "    thread2 = threading.Thread(target=T2_job)\n",
    "    added_thread.start()\n",
    "    thread2.start()\n",
    "    #thread2.join()\n",
    "    #added_thread.join()\n",
    "\n",
    "    print('all done\\n')\n",
    "\n",
    "if __name__ == '__main__':\n",
    "    main()"
   ]
  },
  {
   "cell_type": "code",
   "execution_count": 15,
   "metadata": {
    "collapsed": true
   },
   "outputs": [],
   "source": [
    "a = []\n",
    "a.append(t)"
   ]
  },
  {
   "cell_type": "code",
   "execution_count": 59,
   "metadata": {
    "collapsed": true
   },
   "outputs": [],
   "source": [
    "import threading\n",
    "import time\n",
    "from queue import Queue\n",
    "\n",
    "results = []"
   ]
  },
  {
   "cell_type": "code",
   "execution_count": 3,
   "metadata": {
    "collapsed": true
   },
   "outputs": [],
   "source": [
    "import threading\n",
    "import time\n",
    "from queue import Queue\n",
    "\n",
    "results = []"
   ]
  },
  {
   "cell_type": "code",
   "execution_count": 4,
   "metadata": {},
   "outputs": [
    {
     "name": "stdout",
     "output_type": "stream",
     "text": [
      "5\n",
      "6\n",
      "7\n",
      "8\n",
      "[4, 3, 5, 4, 6, 5, 7, 6]\n"
     ]
    }
   ],
   "source": [
    "\n",
    "\n",
    "def job(l):\n",
    "    s=l+3\n",
    "    results.append(s)\n",
    "    return s+2          #可以return，但很怪\n",
    "\n",
    "\n",
    "\n",
    "\n",
    "data = [1,2,3,4]\n",
    "for i in range(4):\n",
    "    t = threading.Thread(target=job, args=(data[i],))   #為毛要加逗號？？\n",
    "    t.start()\n",
    "    t.join()\n",
    "    print(job(i))\n",
    "\n",
    "    \n",
    "#for _ in range(4):\n",
    "     #results.append(q.get())\n",
    "print(results)"
   ]
  },
  {
   "cell_type": "code",
   "execution_count": 13,
   "metadata": {},
   "outputs": [
    {
     "name": "stdout",
     "output_type": "stream",
     "text": [
      "100\n",
      "120\n",
      "None\n"
     ]
    }
   ],
   "source": [
    "GLO = 100 #直接放在外面，就是全局變量\n",
    "a = None\n",
    "def fun():\n",
    "    #global a   #若沒有這行，print(a)會是None，沒辦法反應區域內 a = 20此行\n",
    "    a = 20\n",
    "    return a+100\n",
    "print(GLO)\n",
    "print(fun())\n",
    "print(a)    "
   ]
  },
  {
   "cell_type": "code",
   "execution_count": null,
   "metadata": {
    "collapsed": true
   },
   "outputs": [],
   "source": []
  }
 ],
 "metadata": {
  "kernelspec": {
   "display_name": "Python 3",
   "language": "python",
   "name": "python3"
  },
  "language_info": {
   "codemirror_mode": {
    "name": "ipython",
    "version": 3
   },
   "file_extension": ".py",
   "mimetype": "text/x-python",
   "name": "python",
   "nbconvert_exporter": "python",
   "pygments_lexer": "ipython3",
   "version": "3.6.1"
  }
 },
 "nbformat": 4,
 "nbformat_minor": 2
}
