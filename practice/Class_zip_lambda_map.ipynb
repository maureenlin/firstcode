{
 "cells": [
  {
   "cell_type": "code",
   "execution_count": 34,
   "metadata": {
    "collapsed": true
   },
   "outputs": [],
   "source": [
    "class Calculator:       #定義class,首字母要大寫\n",
    "    name='Good Calculator'  #class的属性\n",
    "    price=18     #class的属性\n",
    "    def add(self,x,y):   #class的方法(self一定要加,class內的方法默認有這個參數,不加會出錯)\n",
    "        print(self.name) #self. 就是指這類別裡的屬性\n",
    "        result = x + y\n",
    "        print(result)\n",
    "    def minus(self,x,y):\n",
    "        result=x-y\n",
    "        print(result)    "
   ]
  },
  {
   "cell_type": "code",
   "execution_count": 35,
   "metadata": {},
   "outputs": [
    {
     "name": "stdout",
     "output_type": "stream",
     "text": [
      "Good Calculator\n",
      "18\n",
      "Good Calculator\n",
      "30\n",
      "-10\n"
     ]
    }
   ],
   "source": [
    "cal = Calculator()  #創立類別,要記得加()\n",
    "print(cal.name)       #創立類別後即可用類別名字操作\n",
    "print(cal.price)\n",
    "cal.add(10,20)\n",
    "cal.minus(10,20)"
   ]
  },
  {
   "cell_type": "code",
   "execution_count": 1,
   "metadata": {
    "collapsed": true
   },
   "outputs": [],
   "source": [
    "class Calculator:\n",
    "    #price = 15       若要讓此類別內的price = 15 可用這寫法和下面的寫法,建構子內就不用在給定price值\n",
    "    #def __init__(self,name,price = 15,height,width,weight):\n",
    "    def __init__(self,name,price,height,width,weight):   #類似建構子，可初始化此類別的屬性值，一旦有設計建構子，在建立此類別時就得給好初始值\n",
    "        self.name=name\n",
    "        self.price=price\n",
    "        self.h=height\n",
    "        self.wi=width\n",
    "        self.we=weight\n",
    "    def add(self,x,y):   \n",
    "        print(self.name)\n",
    "        result = x + y\n",
    "        print(result)\n",
    "    def minus(self,x,y):\n",
    "        result=x-y\n",
    "        print(result)"
   ]
  },
  {
   "cell_type": "code",
   "execution_count": 8,
   "metadata": {},
   "outputs": [
    {
     "name": "stdout",
     "output_type": "stream",
     "text": [
      "HI\n",
      "18\n",
      "12\n",
      "20\n",
      "22\n",
      "HI\n",
      "3\n",
      "3\n"
     ]
    }
   ],
   "source": [
    "c = Calculator('HI',18,12,20,22)\n",
    "print(c.name)\n",
    "print(c.price)\n",
    "print(c.h)\n",
    "print(c.wi)\n",
    "print(c.we)\n",
    "c.add(1,2)\n",
    "c.minus(5,2)"
   ]
  },
  {
   "cell_type": "code",
   "execution_count": 41,
   "metadata": {},
   "outputs": [
    {
     "name": "stdout",
     "output_type": "stream",
     "text": [
      "<zip object at 0x7f88dd6dccc8>\n",
      "[(1, 4), (2, 5), (3, 6)]\n",
      "0.5 8\n",
      "1.0 10\n",
      "1.5 12\n",
      "[(1, 4, 1, 4), (2, 5, 2, 5), (3, 6, 3, 6)]\n"
     ]
    }
   ],
   "source": [
    "#zip功用為將各陣列中,同index的合在一起\n",
    "a=[1,2,3]\n",
    "b=[4,5,6]\n",
    "\n",
    "print(zip(a,b))   #不能直接印出\n",
    "print(list(zip(a,b)))  #要用list()才能印出\n",
    "for i,j in zip(a,b):   #可用為迭代器\n",
    "     print(i/2,j*2)\n",
    "\n",
    "print(list(zip(a,b,a,b)))  #可多個連結"
   ]
  },
  {
   "cell_type": "code",
   "execution_count": 13,
   "metadata": {},
   "outputs": [
    {
     "name": "stdout",
     "output_type": "stream",
     "text": [
      "5\n"
     ]
    }
   ],
   "source": [
    "#lambda為函式的簡單寫法\n",
    "\n",
    "fun= lambda x,y:x+y  #相當於： def fun(x,y): return x+y\n",
    "print(fun(2,3))"
   ]
  },
  {
   "cell_type": "code",
   "execution_count": 33,
   "metadata": {},
   "outputs": [
    {
     "data": {
      "text/plain": [
       "[2]"
      ]
     },
     "execution_count": 33,
     "metadata": {},
     "output_type": "execute_result"
    }
   ],
   "source": [
    "#map會像zip取同樣的index的值，當作輸入function的參數，且傳回的值為陣列\n",
    "fun1 = lambda x,y:x*y \n",
    "fun2 = lambda x,y:x-y\n",
    "list(map(fun1,[1],[2]))  #等同fun1(1,2)"
   ]
  },
  {
   "cell_type": "code",
   "execution_count": 34,
   "metadata": {},
   "outputs": [
    {
     "data": {
      "text/plain": [
       "[9, 3]"
      ]
     },
     "execution_count": 34,
     "metadata": {},
     "output_type": "execute_result"
    }
   ],
   "source": [
    "list(map(fun2,[10,5],[1,2]))  #等同fun2(10,1)和fun(5,2)"
   ]
  },
  {
   "cell_type": "code",
   "execution_count": 46,
   "metadata": {},
   "outputs": [
    {
     "name": "stdout",
     "output_type": "stream",
     "text": [
      "140225807514824\n",
      "140225807514824\n",
      "True\n"
     ]
    }
   ],
   "source": [
    "#copy\n",
    "a=[1,2,3]\n",
    "b=a   # ＝ 為全部複製，包含值和記憶體位置\n",
    "print(id(a))  #id會印出記憶體位置\n",
    "print(id(b))\n",
    "print(id(a)==id(b))"
   ]
  },
  {
   "cell_type": "code",
   "execution_count": 45,
   "metadata": {},
   "outputs": [
    {
     "name": "stdout",
     "output_type": "stream",
     "text": [
      "[10, 2, 3] [10, 2, 3]\n"
     ]
    }
   ],
   "source": [
    "b[0]=10 \n",
    "print(a,b)"
   ]
  },
  {
   "cell_type": "code",
   "execution_count": 51,
   "metadata": {},
   "outputs": [
    {
     "name": "stdout",
     "output_type": "stream",
     "text": [
      "False\n",
      "[1, 2, 3] [1, 22222, 3]\n"
     ]
    }
   ],
   "source": [
    "#shallow copy\n",
    "import copy\n",
    "a=[1,2,3]\n",
    "c=copy.copy(a)   #shallow copy\n",
    "print(id(a)==id(c))  #記憶體位置不同\n",
    "c[1]=22222   #c改值也不影響a\n",
    "print(a,c)"
   ]
  },
  {
   "cell_type": "code",
   "execution_count": 58,
   "metadata": {},
   "outputs": [
    {
     "name": "stdout",
     "output_type": "stream",
     "text": [
      "False\n",
      "[1, 2, [3, 100]] [1, 2, [3, 100]]\n"
     ]
    }
   ],
   "source": [
    "d=[1,2,[3,4]]   #雖然剛剛改值互不影響，但是陣列中的陣列會被影響\n",
    "e=copy.copy(d) \n",
    "print(id(d)==id(e))\n",
    "d[2][1] = 100\n",
    "print(d,e)"
   ]
  },
  {
   "cell_type": "code",
   "execution_count": 59,
   "metadata": {},
   "outputs": [
    {
     "name": "stdout",
     "output_type": "stream",
     "text": [
      "False\n",
      "[87, 2, [87, 100]] [1, 2, [3, 100]]\n"
     ]
    }
   ],
   "source": [
    "#deep copy\n",
    "f=copy.deepcopy(d)   #deep copy後兩陣列完全互不影響\n",
    "print(id(f)==id(d))\n",
    "d[0] = 87\n",
    "d[2][0] = 87\n",
    "print(d,f)"
   ]
  },
  {
   "cell_type": "code",
   "execution_count": null,
   "metadata": {
    "collapsed": true
   },
   "outputs": [],
   "source": []
  }
 ],
 "metadata": {
  "kernelspec": {
   "display_name": "Python 3",
   "language": "python",
   "name": "python3"
  },
  "language_info": {
   "codemirror_mode": {
    "name": "ipython",
    "version": 3
   },
   "file_extension": ".py",
   "mimetype": "text/x-python",
   "name": "python",
   "nbconvert_exporter": "python",
   "pygments_lexer": "ipython3",
   "version": "3.6.1"
  }
 },
 "nbformat": 4,
 "nbformat_minor": 2
}
